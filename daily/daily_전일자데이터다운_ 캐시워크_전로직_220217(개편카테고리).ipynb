{
 "cells": [
  {
   "cell_type": "code",
   "execution_count": 1,
   "metadata": {},
   "outputs": [],
   "source": [
    "from elasticsearch import Elasticsearch\n",
    "from elasticsearch import helpers\n",
    "from elasticsearch_dsl import Search\n",
    "import json\n",
    "from pandasticsearch import Select\n",
    "import sys\n",
    "from pathlib import Path\n",
    "import datetime\n",
    "import time\n",
    "import pandas as pd\n",
    "import config as cfg\n",
    "# 일정기간 날짜 출력 방법\n",
    "import datetime\n",
    "from datetime import datetime, timedelta\n",
    "from dateutil.relativedelta import relativedelta\n",
    "import calendar #달력\n",
    "import pandas as pd\n",
    "import pymysql\n",
    "import numpy as np"
   ]
  },
  {
   "cell_type": "markdown",
   "metadata": {},
   "source": [
    "## 1. 엘라스틱 서치 연동 : visit data다운"
   ]
  },
  {
   "cell_type": "code",
   "execution_count": null,
   "metadata": {
    "scrolled": true
   },
   "outputs": [
    {
     "name": "stdout",
     "output_type": "stream",
     "text": [
      "2022-09-04 2022-09-04\n",
      "newspic-visit-202209\n",
      "1\n",
      "2\n",
      "3\n",
      "4\n",
      "5\n",
      "6\n",
      "7\n",
      "8\n",
      "9\n",
      "10\n",
      "11\n",
      "12\n",
      "13\n",
      "14\n",
      "15\n",
      "16\n",
      "17\n",
      "18\n",
      "19\n",
      "20\n",
      "21\n",
      "22\n",
      "23\n",
      "24\n",
      "25\n",
      "26\n",
      "27\n",
      "28\n",
      "29\n",
      "30\n",
      "31\n",
      "32\n",
      "33\n",
      "34\n",
      "35\n",
      "36\n",
      "37\n",
      "38\n",
      "39\n",
      "40\n",
      "41\n",
      "42\n",
      "43\n",
      "44\n",
      "45\n",
      "46\n",
      "47\n",
      "48\n",
      "49\n",
      "50\n",
      "51\n",
      "52\n",
      "53\n",
      "54\n",
      "55\n",
      "56\n",
      "57\n",
      "58\n",
      "59\n",
      "60\n",
      "61\n",
      "62\n",
      "63\n",
      "64\n",
      "65\n",
      "66\n",
      "67\n",
      "68\n",
      "69\n",
      "70\n",
      "71\n",
      "72\n",
      "73\n",
      "74\n",
      "75\n",
      "76\n",
      "77\n",
      "78\n",
      "79\n",
      "80\n",
      "81\n",
      "82\n",
      "83\n",
      "84\n",
      "85\n",
      "86\n",
      "87\n",
      "88\n",
      "89\n",
      "90\n",
      "91\n",
      "92\n",
      "93\n",
      "94\n",
      "95\n",
      "96\n",
      "97\n",
      "98\n",
      "99\n",
      "100\n",
      "101\n",
      "102\n",
      "103\n",
      "104\n",
      "105\n",
      "106\n",
      "107\n",
      "108\n",
      "109\n",
      "110\n",
      "111\n",
      "112\n",
      "113\n",
      "114\n",
      "115\n",
      "116\n",
      "117\n",
      "118\n",
      "119\n",
      "120\n",
      "121\n",
      "122\n",
      "123\n",
      "124\n",
      "125\n",
      "126\n",
      "127\n",
      "128\n",
      "129\n",
      "130\n",
      "131\n",
      "132\n",
      "133\n",
      "134\n",
      "135\n",
      "136\n",
      "137\n",
      "138\n",
      "139\n",
      "140\n",
      "141\n",
      "142\n",
      "143\n",
      "144\n",
      "145\n",
      "146\n",
      "147\n",
      "148\n",
      "149\n",
      "150\n",
      "151\n",
      "152\n",
      "153\n",
      "154\n",
      "155\n",
      "156\n",
      "157\n",
      "158\n",
      "159\n",
      "160\n",
      "161\n",
      "162\n",
      "163\n",
      "164\n",
      "165\n",
      "166\n",
      "167\n",
      "168\n",
      "169\n",
      "170\n",
      "171\n",
      "172\n",
      "173\n",
      "174\n",
      "175\n",
      "176\n",
      "177\n",
      "178\n",
      "179\n",
      "180\n",
      "181\n",
      "182\n",
      "183\n",
      "184\n",
      "185\n",
      "186\n",
      "187\n",
      "188\n",
      "189\n",
      "190\n",
      "191\n",
      "192\n",
      "193\n",
      "194\n",
      "195\n",
      "196\n",
      "197\n",
      "198\n",
      "199\n",
      "200\n",
      "201\n",
      "202\n",
      "203\n",
      "204\n",
      "205\n",
      "206\n",
      "207\n",
      "208\n",
      "209\n",
      "210\n",
      "211\n",
      "212\n",
      "213\n",
      "214\n",
      "215\n",
      "216\n",
      "217\n",
      "218\n",
      "219\n",
      "220\n",
      "221\n",
      "222\n",
      "223\n",
      "224\n",
      "225\n",
      "226\n",
      "227\n",
      "228\n",
      "229\n",
      "230\n",
      "231\n",
      "232\n",
      "233\n",
      "234\n",
      "235\n",
      "236\n",
      "237\n",
      "238\n",
      "239\n",
      "240\n",
      "241\n",
      "242\n",
      "243\n",
      "244\n",
      "245\n",
      "246\n",
      "247\n",
      "248\n",
      "249\n",
      "250\n",
      "251\n",
      "252\n",
      "253\n",
      "254\n",
      "255\n",
      "256\n",
      "257\n",
      "258\n",
      "259\n",
      "260\n",
      "261\n",
      "262\n",
      "263\n",
      "264\n",
      "265\n",
      "266\n",
      "267\n",
      "268\n",
      "269\n",
      "270\n",
      "271\n",
      "272\n",
      "273\n",
      "274\n",
      "275\n",
      "276\n",
      "277\n",
      "278\n",
      "279\n",
      "280\n",
      "281\n",
      "282\n",
      "283\n",
      "284\n",
      "285\n",
      "286\n",
      "287\n",
      "288\n",
      "289\n",
      "290\n",
      "291\n",
      "292\n",
      "293\n",
      "294\n",
      "295\n",
      "296\n",
      "297\n",
      "298\n",
      "299\n",
      "300\n",
      "301\n",
      "302\n",
      "303\n",
      "304\n",
      "305\n",
      "306\n",
      "307\n",
      "308\n",
      "309\n",
      "310\n",
      "311\n",
      "312\n",
      "313\n",
      "314\n",
      "315\n",
      "316\n",
      "317\n",
      "318\n",
      "319\n",
      "320\n",
      "321\n",
      "322\n",
      "323\n",
      "324\n",
      "325\n",
      "326\n",
      "327\n",
      "328\n",
      "329\n",
      "330\n",
      "331\n",
      "332\n",
      "333\n",
      "334\n",
      "335\n",
      "336\n",
      "337\n",
      "338\n",
      "339\n",
      "340\n",
      "341\n",
      "342\n",
      "343\n",
      "344\n",
      "345\n",
      "346\n",
      "347\n",
      "348\n",
      "349\n",
      "350\n",
      "351\n",
      "352\n",
      "353\n",
      "354\n",
      "355\n",
      "356\n",
      "357\n",
      "358\n",
      "359\n",
      "360\n",
      "361\n",
      "362\n",
      "363\n",
      "364\n",
      "365\n",
      "366\n",
      "367\n",
      "368\n",
      "369\n",
      "370\n",
      "371\n",
      "372\n",
      "373\n",
      "374\n",
      "375\n",
      "376\n",
      "377\n",
      "378\n",
      "379\n",
      "380\n",
      "381\n",
      "382\n",
      "383\n",
      "384\n",
      "385\n",
      "386\n",
      "387\n",
      "388\n",
      "389\n",
      "390\n",
      "391\n",
      "392\n",
      "393\n",
      "394\n",
      "395\n",
      "396\n",
      "397\n",
      "398\n",
      "399\n",
      "400\n",
      "401\n",
      "402\n",
      "403\n",
      "404\n",
      "405\n",
      "406\n",
      "407\n",
      "408\n",
      "409\n",
      "410\n",
      "411\n",
      "412\n",
      "413\n",
      "414\n",
      "415\n",
      "416\n",
      "417\n",
      "418\n",
      "419\n",
      "420\n",
      "421\n",
      "422\n",
      "423\n",
      "424\n",
      "425\n",
      "426\n",
      "427\n",
      "428\n",
      "429\n",
      "430\n",
      "431\n",
      "432\n",
      "433\n",
      "434\n",
      "435\n",
      "436\n",
      "437\n",
      "438\n",
      "439\n",
      "440\n",
      "441\n",
      "442\n",
      "443\n",
      "444\n",
      "445\n",
      "446\n",
      "447\n",
      "448\n",
      "449\n",
      "450\n",
      "451\n",
      "452\n",
      "453\n",
      "454\n",
      "455\n",
      "456\n",
      "457\n",
      "458\n",
      "459\n",
      "460\n",
      "461\n",
      "462\n",
      "463\n",
      "464\n",
      "465\n",
      "466\n",
      "467\n",
      "468\n",
      "469\n",
      "470\n",
      "471\n",
      "472\n",
      "473\n",
      "474\n",
      "475\n",
      "476\n",
      "477\n",
      "478\n",
      "479\n",
      "480\n",
      "481\n",
      "482\n",
      "483\n",
      "484\n",
      "485\n",
      "486\n",
      "487\n",
      "488\n",
      "489\n",
      "490\n",
      "491\n",
      "492\n",
      "493\n",
      "494\n",
      "495\n",
      "496\n",
      "497\n",
      "498\n",
      "499\n",
      "500\n",
      "501\n",
      "502\n",
      "503\n",
      "504\n",
      "505\n",
      "506\n",
      "507\n",
      "508\n",
      "509\n",
      "510\n",
      "511\n",
      "512\n",
      "513\n",
      "514\n",
      "515\n",
      "516\n",
      "517\n",
      "518\n",
      "519\n",
      "520\n",
      "521\n",
      "522\n",
      "523\n",
      "524\n",
      "525\n",
      "526\n",
      "527\n",
      "528\n",
      "529\n",
      "530\n",
      "531\n",
      "532\n",
      "533\n",
      "534\n",
      "535\n",
      "536\n",
      "537\n",
      "538\n",
      "539\n",
      "540\n",
      "541\n",
      "542\n",
      "543\n",
      "544\n",
      "545\n",
      "546\n",
      "547\n",
      "548\n",
      "549\n",
      "550\n",
      "551\n",
      "552\n",
      "553\n",
      "554\n",
      "555\n",
      "556\n",
      "557\n",
      "558\n",
      "559\n",
      "560\n",
      "561\n",
      "562\n",
      "563\n",
      "564\n",
      "565\n",
      "566\n",
      "567\n",
      "568\n",
      "569\n",
      "570\n",
      "571\n",
      "572\n",
      "573\n",
      "574\n",
      "575\n",
      "576\n",
      "577\n",
      "578\n",
      "579\n",
      "580\n",
      "581\n",
      "582\n",
      "583\n",
      "584\n",
      "585\n",
      "586\n",
      "587\n",
      "588\n",
      "589\n",
      "590\n",
      "591\n",
      "592\n",
      "593\n",
      "594\n",
      "595\n",
      "596\n",
      "597\n",
      "598\n",
      "599\n",
      "600\n",
      "601\n",
      "602\n",
      "603\n",
      "604\n",
      "605\n",
      "606\n",
      "607\n",
      "608\n",
      "609\n",
      "610\n",
      "611\n",
      "612\n",
      "613\n",
      "614\n",
      "615\n",
      "616\n",
      "617\n",
      "618\n",
      "619\n",
      "620\n",
      "2022-09-03 2022-09-03\n",
      "newspic-visit-202209\n",
      "1\n",
      "2\n",
      "3\n",
      "4\n",
      "5\n",
      "6\n",
      "7\n",
      "8\n",
      "9\n",
      "10\n",
      "11\n",
      "12\n",
      "13\n",
      "14\n",
      "15\n",
      "16\n",
      "17\n",
      "18\n",
      "19\n",
      "20\n",
      "21\n",
      "22\n",
      "23\n",
      "24\n",
      "25\n",
      "26\n",
      "27\n",
      "28\n",
      "29\n",
      "30\n",
      "31\n",
      "32\n",
      "33\n",
      "34\n",
      "35\n",
      "36\n",
      "37\n",
      "38\n",
      "39\n",
      "40\n",
      "41\n",
      "42\n",
      "43\n",
      "44\n",
      "45\n",
      "46\n",
      "47\n",
      "48\n",
      "49\n",
      "50\n",
      "51\n",
      "52\n",
      "53\n",
      "54\n",
      "55\n",
      "56\n",
      "57\n",
      "58\n",
      "59\n",
      "60\n",
      "61\n",
      "62\n",
      "63\n",
      "64\n",
      "65\n",
      "66\n",
      "67\n",
      "68\n",
      "69\n",
      "70\n",
      "71\n",
      "72\n",
      "73\n",
      "74\n",
      "75\n",
      "76\n",
      "77\n",
      "78\n",
      "79\n",
      "80\n",
      "81\n",
      "82\n",
      "83\n",
      "84\n",
      "85\n",
      "86\n",
      "87\n",
      "88\n",
      "89\n",
      "90\n",
      "91\n",
      "92\n",
      "93\n",
      "94\n",
      "95\n",
      "96\n",
      "97\n",
      "98\n",
      "99\n",
      "100\n",
      "101\n",
      "102\n",
      "103\n",
      "104\n",
      "105\n",
      "106\n",
      "107\n",
      "108\n",
      "109\n",
      "110\n",
      "111\n",
      "112\n",
      "113\n",
      "114\n",
      "115\n",
      "116\n",
      "117\n",
      "118\n",
      "119\n",
      "120\n",
      "121\n",
      "122\n",
      "123\n",
      "124\n",
      "125\n",
      "126\n",
      "127\n",
      "128\n",
      "129\n",
      "130\n",
      "131\n",
      "132\n",
      "133\n",
      "134\n",
      "135\n",
      "136\n",
      "137\n",
      "138\n",
      "139\n",
      "140\n",
      "141\n",
      "142\n",
      "143\n",
      "144\n",
      "145\n",
      "146\n",
      "147\n",
      "148\n",
      "149\n",
      "150\n",
      "151\n",
      "152\n",
      "153\n",
      "154\n",
      "155\n",
      "156\n",
      "157\n",
      "158\n",
      "159\n",
      "160\n",
      "161\n",
      "162\n",
      "163\n",
      "164\n",
      "165\n",
      "166\n",
      "167\n",
      "168\n",
      "169\n",
      "170\n",
      "171\n",
      "172\n",
      "173\n",
      "174\n",
      "175\n",
      "176\n",
      "177\n",
      "178\n",
      "179\n",
      "180\n",
      "181\n",
      "182\n",
      "183\n",
      "184\n",
      "185\n",
      "186\n",
      "187\n",
      "188\n",
      "189\n",
      "190\n",
      "191\n",
      "192\n",
      "193\n",
      "194\n",
      "195\n",
      "196\n",
      "197\n",
      "198\n",
      "199\n",
      "200\n",
      "201\n",
      "202\n",
      "203\n",
      "204\n",
      "205\n",
      "206\n",
      "207\n",
      "208\n",
      "209\n",
      "210\n",
      "211\n",
      "212\n",
      "213\n",
      "214\n",
      "215\n",
      "216\n",
      "217\n",
      "218\n",
      "219\n",
      "220\n",
      "221\n",
      "222\n",
      "223\n",
      "224\n",
      "225\n",
      "226\n",
      "227\n",
      "228\n",
      "229\n",
      "230\n",
      "231\n",
      "232\n",
      "233\n",
      "234\n",
      "235\n",
      "236\n",
      "237\n",
      "238\n",
      "239\n",
      "240\n",
      "241\n",
      "242\n",
      "243\n",
      "244\n",
      "245\n",
      "246\n",
      "247\n",
      "248\n",
      "249\n",
      "250\n",
      "251\n",
      "252\n",
      "253\n",
      "254\n",
      "255\n",
      "256\n",
      "257\n",
      "258\n",
      "259\n",
      "260\n",
      "261\n",
      "262\n",
      "263\n",
      "264\n",
      "265\n",
      "266\n",
      "267\n",
      "268\n",
      "269\n",
      "270\n",
      "271\n",
      "272\n",
      "273\n",
      "274\n",
      "275\n",
      "276\n",
      "277\n",
      "278\n",
      "279\n",
      "280\n",
      "281\n",
      "282\n",
      "283\n",
      "284\n",
      "285\n",
      "286\n",
      "287\n",
      "288\n",
      "289\n",
      "290\n",
      "291\n",
      "292\n",
      "293\n",
      "294\n",
      "295\n",
      "296\n",
      "297\n",
      "298\n",
      "299\n",
      "300\n",
      "301\n",
      "302\n",
      "303\n",
      "304\n",
      "305\n",
      "306\n",
      "307\n",
      "308\n",
      "309\n",
      "310\n",
      "311\n",
      "312\n",
      "313\n",
      "314\n",
      "315\n",
      "316\n",
      "317\n",
      "318\n",
      "319\n",
      "320\n",
      "321\n",
      "322\n",
      "323\n",
      "324\n",
      "325\n",
      "326\n",
      "327\n",
      "328\n",
      "329\n",
      "330\n",
      "331\n",
      "332\n",
      "333\n",
      "334\n",
      "335\n",
      "336\n",
      "337\n",
      "338\n",
      "339\n",
      "340\n",
      "341\n",
      "342\n",
      "343\n",
      "344\n",
      "345\n",
      "346\n",
      "347\n",
      "348\n",
      "349\n",
      "350\n",
      "351\n",
      "352\n",
      "353\n",
      "354\n",
      "355\n",
      "356\n",
      "357\n",
      "358\n",
      "359\n",
      "360\n",
      "361\n",
      "362\n",
      "363\n",
      "364\n",
      "365\n",
      "366\n",
      "367\n",
      "368\n",
      "369\n",
      "370\n",
      "371\n",
      "372\n",
      "373\n",
      "374\n",
      "375\n",
      "376\n",
      "377\n",
      "378\n",
      "379\n",
      "380\n",
      "381\n",
      "382\n",
      "383\n",
      "384\n",
      "385\n",
      "386\n",
      "387\n",
      "388\n",
      "389\n",
      "390\n",
      "391\n",
      "392\n",
      "393\n",
      "394\n",
      "395\n",
      "396\n",
      "397\n",
      "398\n",
      "399\n",
      "400\n",
      "401\n",
      "402\n",
      "403\n",
      "404\n",
      "405\n",
      "406\n",
      "407\n",
      "408\n",
      "409\n",
      "410\n",
      "411\n",
      "412\n",
      "413\n",
      "414\n",
      "415\n",
      "416\n",
      "417\n",
      "418\n",
      "419\n",
      "420\n",
      "421\n",
      "422\n",
      "423\n",
      "424\n",
      "425\n",
      "426\n",
      "427\n",
      "428\n",
      "429\n",
      "430\n"
     ]
    }
   ],
   "source": [
    "visit_df = pd.DataFrame()\n",
    "df_g_all = pd.DataFrame()\n",
    "for i in range(1,4): # 대입\n",
    "    start_date = datetime.today()- timedelta(i)\n",
    "    start_date2 = start_date.strftime(\"%Y-%m-%d\")\n",
    "    last_date  = datetime.today()- timedelta(i)\n",
    "    last_date2  = last_date.strftime(\"%Y-%m-%d\")\n",
    "    print(start_date2, last_date2)\n",
    "    # es 서버 연결\n",
    "    es =  Elasticsearch(\"search-newspic-data-t3bcbhueisfujiwaw6lddtnbkm.ap-northeast-2.es.amazonaws.com:80\", timeout=30, max_retries=10, retry_on_timeout=True)\n",
    "    # doc_count 초기화\n",
    "    doc_count = 0\n",
    "    # 검색 요청할 인덱스 정의\n",
    "    index = 'newspic-visit-'+start_date.strftime('%Y%m')\n",
    "    print(index)\n",
    "    # 요청쿼리문작성\n",
    "    docs = es.search(index=index,  #여러개 \n",
    "                      body={\n",
    "                            \"query\": {\n",
    "                              \"bool\": {\n",
    "                                \"should\": [ \n",
    "                                     {\"term\":{'requestKey':'G9BUz12T'}}, #캐시워크 잠금화면\n",
    "                                     {\"term\":{'requestKey':'X4uGJ61p'}} #캐시워크 drawer\n",
    "                                     ],\n",
    "                               \"filter\": [\n",
    "                                    {\"terms\": {\"requestKey\": [\"G9BUz12T\",\"X4uGJ61p\"]}},\n",
    "                                    {\"range\":{\n",
    "                                         \"insertDate\":{\n",
    "                                            \"gte\" : start_date2,\n",
    "                                            \"lte\" : last_date2,\n",
    "                                            \"time_zone\": \"+09:00\",    \n",
    "                                      }}}]\n",
    "                              }\n",
    "                            }\n",
    "                          },\n",
    "                     scroll='1m'\n",
    "                    ,size=5000 )\n",
    "    scroll_id = docs['_scroll_id']\n",
    "    num_docs = len(docs['hits']['hits'])\n",
    "    pandas_df = Select.from_dict(docs).to_pandas()\n",
    "    column =['insertDate','newCategory','type','nid','pcid','requestKey','publisher','rssOption']\n",
    "    pandas_df = pandas_df[column]\n",
    "    a = 0 \n",
    "    while num_docs > 0:\n",
    "        docs = es.scroll(scroll_id=scroll_id,\n",
    "                             scroll='1m')\n",
    "        num_docs += len(docs['hits']['hits'])\n",
    "        tdf = Select.from_dict(docs).to_pandas()\n",
    "        try :\n",
    "            tdf = tdf[column]\n",
    "            pandas_df = pandas_df.append(tdf, ignore_index=True)\n",
    "        except TypeError :\n",
    "                break        \n",
    "        a += 1\n",
    "        print(a)\n",
    "    date_column ='insertDate'\n",
    "    pandas_df[date_column] = pd.to_datetime(pandas_df[date_column], unit='ms')\n",
    "    pandas_df[date_column] = pandas_df[date_column].dt.tz_localize('UTC').dt.tz_convert('Asia/Seoul')\n",
    "    pandas_df[date_column] = pandas_df[date_column].dt.tz_localize(None)\n",
    "    pandas_df['insertdate']  = pandas_df[date_column].astype(str)   \n",
    "    pandas_df['date']     = pandas_df['insertdate'].str.split(' ', expand = True).iloc[:,0]\n",
    "    \n",
    "    visit_df          = visit_df.append(pandas_df, ignore_index=True)\n",
    "    \n",
    "df_visit = visit_df.groupby(by=['date','rssOption','requestKey','newCategory'], as_index=False).agg({'pcid': pd.Series.nunique,\n",
    "                                                                                            'nid': ['count']})\n",
    "df_visit.columns =['date','rssOption','requestKey','newCategory','user','visit']\n",
    "visit_df.groupby(by=['date','requestKey'], as_index=False).agg({'pcid': pd.Series.nunique,'nid': ['count']})"
   ]
  },
  {
   "cell_type": "code",
   "execution_count": null,
   "metadata": {},
   "outputs": [],
   "source": [
    "# 데이터 타입 확인 \n",
    "visit_df.info()"
   ]
  },
  {
   "cell_type": "code",
   "execution_count": null,
   "metadata": {},
   "outputs": [],
   "source": [
    "visit_df.head()"
   ]
  },
  {
   "cell_type": "code",
   "execution_count": null,
   "metadata": {},
   "outputs": [],
   "source": [
    "visit_df['h']= visit_df['insertdate'].str.split(' ', expand = True).iloc[:,1]\n",
    "visit_df['h']= visit_df['h'].str.split(':', expand = True).iloc[:,0]"
   ]
  },
  {
   "cell_type": "code",
   "execution_count": null,
   "metadata": {},
   "outputs": [],
   "source": [
    "visit_df['h']= visit_df['h'].str.split(':', expand = True).iloc[:,0]"
   ]
  },
  {
   "cell_type": "code",
   "execution_count": null,
   "metadata": {},
   "outputs": [],
   "source": [
    "df_h = visit_df.groupby(by=['date','h','requestKey','rssOption'], as_index=False).agg({'pcid': pd.Series.nunique,\n",
    "                                                                                            'nid': ['count']})"
   ]
  },
  {
   "cell_type": "code",
   "execution_count": null,
   "metadata": {},
   "outputs": [],
   "source": [
    "df_h "
   ]
  },
  {
   "cell_type": "code",
   "execution_count": null,
   "metadata": {},
   "outputs": [],
   "source": [
    "df_h.columns=['date','h','requestKey','rssOption','user','visit']"
   ]
  },
  {
   "cell_type": "code",
   "execution_count": null,
   "metadata": {},
   "outputs": [],
   "source": [
    "df_visit = visit_df.groupby(by=['date','rssOption','requestKey','newCategory'], as_index=False).agg({'pcid': pd.Series.nunique,\n",
    "                                                                                            'nid': ['count']})"
   ]
  },
  {
   "cell_type": "code",
   "execution_count": null,
   "metadata": {
    "scrolled": true
   },
   "outputs": [],
   "source": [
    "df_visit.head()"
   ]
  },
  {
   "cell_type": "code",
   "execution_count": null,
   "metadata": {},
   "outputs": [],
   "source": [
    "df_visit.to_csv(\"개편카테고리볕통계.csv\", encoding='utf-8-sig')"
   ]
  },
  {
   "cell_type": "code",
   "execution_count": null,
   "metadata": {},
   "outputs": [],
   "source": [
    "visit_df.groupby(by=['date','requestKey','newCategory'], as_index=False).agg({'pcid': pd.Series.nunique,\n",
    "                                                                                            'nid': ['count']})"
   ]
  },
  {
   "cell_type": "code",
   "execution_count": null,
   "metadata": {},
   "outputs": [],
   "source": [
    "df_visit.columns =['date','rssOption','requestKey','newCategory','user','visit']"
   ]
  },
  {
   "cell_type": "code",
   "execution_count": null,
   "metadata": {},
   "outputs": [],
   "source": [
    "visit_df.groupby(by=['date','requestKey'], as_index=False).agg({'pcid': pd.Series.nunique,\n",
    "                                                                                            'nid': ['count']})"
   ]
  },
  {
   "cell_type": "markdown",
   "metadata": {},
   "source": [
    "## 2. 엘라스틱 서치 연동 : RSS 데이터 다운 (제공수)"
   ]
  },
  {
   "cell_type": "code",
   "execution_count": null,
   "metadata": {
    "scrolled": false
   },
   "outputs": [],
   "source": [
    "rss_df = pd.DataFrame()\n",
    "df_g_all = pd.DataFrame()\n",
    "for i in range(1,4): #i=1값 대입\n",
    "    start_date = datetime.today()- timedelta(i)\n",
    "    start_date2 = start_date.strftime(\"%Y-%m-%d\")\n",
    "    last_date  = datetime.today()- timedelta(i)\n",
    "    last_date2  = last_date.strftime(\"%Y-%m-%d\")\n",
    "    print(start_date2, last_date2)\n",
    "    # es 서버 연결\n",
    "    es =  Elasticsearch(\"search-newspic-data-t3bcbhueisfujiwaw6lddtnbkm.ap-northeast-2.es.amazonaws.com:80\", timeout=30, max_retries=10, retry_on_timeout=True)\n",
    "    # doc_count 초기화\n",
    "    doc_count = 0\n",
    "    # 검색 요청할 인덱스 정의\n",
    "    index = 'newspic-rss-'+start_date.strftime('%Y%m')\n",
    "    print(index)\n",
    "    # 요청쿼리문작성\n",
    "    docs = es.search(index=index,  #여러개 \n",
    "                      body={\n",
    "                            \"query\": {\n",
    "                              \"bool\": {\n",
    "                            #    \"should\": [ \n",
    "                             #       {\"term\":{'requestKey':'G9BUz12T'}}, #캐시워크 잠금화면\n",
    "                             #        {\"term\":{'requestKey':'X4uGJ61p'}} #캐시워크 drawer\n",
    "                              #       ],\n",
    "                                \"filter\": [\n",
    "                                     {\"terms\": {\"requestKey\": [\"G9BUz12T\",\"X4uGJ61p\"]}},\n",
    "                                     {\"range\":{\n",
    "                                         \"insertDate\":{\n",
    "                                            \"gte\" : start_date2,\n",
    "                                            \"lte\" : last_date2,\n",
    "                                            \"time_zone\": \"+09:00\",    \n",
    "                                      }}}]\n",
    "                              }\n",
    "                            }\n",
    "                          },\n",
    "                     scroll='1m'\n",
    "                    ,size=5000)\n",
    "    scroll_id = docs['_scroll_id']\n",
    "    num_docs = len(docs['hits']['hits'])\n",
    "    pandas_df = Select.from_dict(docs).to_pandas()\n",
    "    column =['insertDate','newCategory','type','nid','requestKey','publisher','rssOption']\n",
    "    pandas_df = pandas_df[column]\n",
    "    a = 0 \n",
    "    while num_docs > 0:\n",
    "        docs = es.scroll(scroll_id=scroll_id,\n",
    "                             scroll='1m')\n",
    "        num_docs += len(docs['hits']['hits'])\n",
    "        tdf = Select.from_dict(docs).to_pandas()\n",
    "        try :\n",
    "            tdf = tdf[column]\n",
    "            pandas_df = pandas_df.append(tdf, ignore_index=True)\n",
    "        except TypeError :\n",
    "                break        \n",
    "        a += 1\n",
    "        print(a)\n",
    "    date_column ='insertDate'\n",
    "    pandas_df[date_column] = pd.to_datetime(pandas_df[date_column], unit='ms')\n",
    "    pandas_df[date_column] = pandas_df[date_column].dt.tz_localize('UTC').dt.tz_convert('Asia/Seoul')\n",
    "    pandas_df[date_column] = pandas_df[date_column].dt.tz_localize(None)\n",
    "    pandas_df['insertdate']  = pandas_df[date_column].astype(str)   \n",
    "    pandas_df['date']     = pandas_df['insertdate'].str.split(' ', expand = True).iloc[:,0]\n",
    "    pandas_df['pcode']    = pandas_df['newCategory'].str[:4]\n",
    "    rss_df          = rss_df.append(pandas_df, ignore_index=True)\n",
    "df_rss    = rss_df.groupby(['date','rssOption','requestKey','newCategory'], as_index = False)['nid'].count()\n",
    "df_rss.info()"
   ]
  },
  {
   "cell_type": "code",
   "execution_count": null,
   "metadata": {},
   "outputs": [],
   "source": [
    "rss_df.head()"
   ]
  },
  {
   "cell_type": "code",
   "execution_count": null,
   "metadata": {},
   "outputs": [],
   "source": [
    "rss_df['h']= rss_df['insertdate'].str.split(' ', expand = True).iloc[:,1]\n",
    "rss_df['h']= rss_df['h'].str.split(':', expand = True).iloc[:,0]"
   ]
  },
  {
   "cell_type": "code",
   "execution_count": null,
   "metadata": {},
   "outputs": [],
   "source": [
    "rss_h = rss_df.groupby(by=['date','h','requestKey','rssOption'], as_index=False)['nid'].count()"
   ]
  },
  {
   "cell_type": "code",
   "execution_count": null,
   "metadata": {},
   "outputs": [],
   "source": [
    "rss_h"
   ]
  },
  {
   "cell_type": "code",
   "execution_count": null,
   "metadata": {},
   "outputs": [],
   "source": [
    "merge_h = pd.merge(df_h,rss_h, on=['date','h','requestKey','rssOption'])"
   ]
  },
  {
   "cell_type": "code",
   "execution_count": null,
   "metadata": {},
   "outputs": [],
   "source": [
    "merge_p = pd.pivot_table(merge_h , index=['date','h','requestKey'], values=['user','visit','nid'], aggfunc=np.sum, margins=True)\n",
    "merge_p = merge_p.reset_index(drop=False, inplace=False)\n",
    "merge_p.head()"
   ]
  },
  {
   "cell_type": "code",
   "execution_count": null,
   "metadata": {},
   "outputs": [],
   "source": [
    "merge_p.columns =['date','h','requestKey','s_nid','s_user','s_visit']"
   ]
  },
  {
   "cell_type": "code",
   "execution_count": null,
   "metadata": {},
   "outputs": [],
   "source": [
    "merge_f =  pd.merge(merge_h, merge_p, on=['date','h','requestKey'])\n",
    "merge_f"
   ]
  },
  {
   "cell_type": "code",
   "execution_count": null,
   "metadata": {},
   "outputs": [],
   "source": [
    "merge_f['ratio']= merge_f['visit']/merge_f['s_visit']*(1-(merge_f['nid']/merge_f['s_nid']))"
   ]
  },
  {
   "cell_type": "code",
   "execution_count": null,
   "metadata": {},
   "outputs": [],
   "source": [
    "merge_f"
   ]
  },
  {
   "cell_type": "code",
   "execution_count": null,
   "metadata": {},
   "outputs": [],
   "source": [
    "merge_f.to_csv('시간당알고리즘노출비율_220330.csv', encoding='utf-8-sig')"
   ]
  },
  {
   "cell_type": "code",
   "execution_count": null,
   "metadata": {},
   "outputs": [],
   "source": [
    "rss_df[(rss_df['rssOption']=='RECOM_K_RTI')&(rss_df['pcode']=='CA04')]"
   ]
  },
  {
   "cell_type": "code",
   "execution_count": null,
   "metadata": {},
   "outputs": [],
   "source": [
    "df_rss[(df_rss['rssOption']=='RECOM_K_RTI')]"
   ]
  },
  {
   "cell_type": "code",
   "execution_count": null,
   "metadata": {},
   "outputs": [],
   "source": [
    "df_rss[(df_rss['requestKey']=='X4uGJ61p')&(df_rss['rssOption']=='RECOM_RTI')]"
   ]
  },
  {
   "cell_type": "code",
   "execution_count": null,
   "metadata": {},
   "outputs": [],
   "source": [
    "df_rss.columns =['date','rssOption','requestKey','newCategory','nid']"
   ]
  },
  {
   "cell_type": "code",
   "execution_count": null,
   "metadata": {},
   "outputs": [],
   "source": [
    "all_df = pd.merge(df_rss, df_visit, on=['date','rssOption','requestKey','newCategory'],how='outer')"
   ]
  },
  {
   "cell_type": "code",
   "execution_count": null,
   "metadata": {},
   "outputs": [],
   "source": [
    "all_df.head()"
   ]
  },
  {
   "cell_type": "code",
   "execution_count": null,
   "metadata": {},
   "outputs": [],
   "source": [
    "all_df['requestKey'].unique()"
   ]
  },
  {
   "cell_type": "code",
   "execution_count": null,
   "metadata": {},
   "outputs": [],
   "source": [
    "all_df[all_df['requestKey']=='NONE']"
   ]
  },
  {
   "cell_type": "markdown",
   "metadata": {},
   "source": [
    "## 3. DB접속 : 카테고리 테이블 매칭"
   ]
  },
  {
   "cell_type": "code",
   "execution_count": null,
   "metadata": {},
   "outputs": [],
   "source": [
    "# 기사 제목,nid 가져오기\n",
    "connect = pymysql.connect(host='ec2-3-35-194-202.ap-northeast-2.compute.amazonaws.com'\n",
    "                        , port = 3306\n",
    "                        , user='newspic_read'\n",
    "                        , password ='shxlvmffjtm1!'\n",
    "                        , db = 'newspic'\n",
    "                        , charset='utf8')\n",
    "# connection으로부터 cursor 생성\n",
    "cur = connect.cursor()\n",
    "# 카테고리 테이블 가져오기\n",
    "query3 = \"SELECT * FROM newsCate\"\n",
    "df3 = pd.read_sql(query3, connect)\n",
    "df3"
   ]
  },
  {
   "cell_type": "code",
   "execution_count": null,
   "metadata": {},
   "outputs": [],
   "source": [
    "df_all = pd.merge(all_df, df3, left_on=['newCategory'], right_on=['code'])\n",
    "df_all.head(1)\n",
    "df_all.info()"
   ]
  },
  {
   "cell_type": "markdown",
   "metadata": {},
   "source": [
    "## 4. 퍼블리셔별 데이터 분석 : 캐시워크 잠금화면"
   ]
  },
  {
   "cell_type": "code",
   "execution_count": null,
   "metadata": {},
   "outputs": [],
   "source": [
    "rock01  = df_all[(df_all['requestKey']=='G9BUz12T')] "
   ]
  },
  {
   "cell_type": "code",
   "execution_count": null,
   "metadata": {},
   "outputs": [],
   "source": [
    "###pandas pivot table sum by index\n",
    "## index 1 rssoption마다 nid,user,visit의 합계를 내고 그거에 rssoption마다 비중도 말고싶다!"
   ]
  },
  {
   "cell_type": "code",
   "execution_count": null,
   "metadata": {},
   "outputs": [],
   "source": [
    "rock01_gr= pd.pivot_table(rock01 , index=['date','rssOption','pcode'], values=['user','visit','nid'], aggfunc=np.sum, margins=True)\n",
    "rock01_gr"
   ]
  },
  {
   "cell_type": "code",
   "execution_count": null,
   "metadata": {},
   "outputs": [],
   "source": [
    "rock01_gr = rock01_gr.reset_index('pcode')\n",
    "rock01_gr.head()"
   ]
  },
  {
   "cell_type": "code",
   "execution_count": null,
   "metadata": {
    "scrolled": true
   },
   "outputs": [],
   "source": [
    "rock01_gr_sum =rock01_gr.sum(level=['date','rssOption'])\n",
    "rock01_gr_sum.columns =['nid_sum','user_sum','visit_sum']\n",
    "rock01_gr_sum"
   ]
  },
  {
   "cell_type": "code",
   "execution_count": null,
   "metadata": {},
   "outputs": [],
   "source": [
    "gr_all = pd.merge(rock01_gr, rock01_gr_sum, on=['date','rssOption'],how='left')"
   ]
  },
  {
   "cell_type": "code",
   "execution_count": null,
   "metadata": {},
   "outputs": [],
   "source": [
    "gr_all.head()"
   ]
  },
  {
   "cell_type": "code",
   "execution_count": null,
   "metadata": {},
   "outputs": [],
   "source": [
    "gr_all['visit_%'] = gr_all['visit']/gr_all['visit_sum']*100\n",
    "gr_all['user_%'] =  gr_all['user']/gr_all['user_sum']*100\n",
    "gr_all['nid_%']  =  gr_all['nid']/gr_all['nid_sum']*100\n",
    "gr_all['visit/user'] = gr_all['visit']/gr_all['user']\n",
    "gr_all['visit/nid']  = gr_all['visit']/gr_all['nid']"
   ]
  },
  {
   "cell_type": "code",
   "execution_count": null,
   "metadata": {},
   "outputs": [],
   "source": [
    "gr_all=gr_all[['pcode','visit','visit_%','user','user_%',\n",
    "               'nid','nid_%','visit/user','visit/nid']]"
   ]
  },
  {
   "cell_type": "code",
   "execution_count": null,
   "metadata": {},
   "outputs": [],
   "source": [
    "gr_all = round(gr_all,2)"
   ]
  },
  {
   "cell_type": "code",
   "execution_count": null,
   "metadata": {},
   "outputs": [],
   "source": [
    "index={ 'RECOM_RTI' : '1_실시간이슈'\n",
    "       ,'RECOM_K_RTI' : '2_실시간이슈(열독률)'\n",
    "       ,'RECOM_FCC' : '3_언론사&카테고리'\n",
    "       ,'RECOM_CRANK' :'4_카테고리별인기'\n",
    "       ,'RECOM_CTR' : '5_CTR'\n",
    "       ,'RECOM_EMOJI' : '6_댓글감정표현'\n",
    "       ,'RECOM_RANK': '7_인기순'\n",
    "       ,'RECOM_NMEDIA' : '8_뉴미디어'\n",
    "       ,'RECOM_DATE' : '9_일자별'\n",
    "      }\n",
    "columns ={ 'visit' :'방문수'\n",
    "          ,'vist_%' :'방문수_%'\n",
    "          ,'user' : '사용자수'\n",
    "          ,'user_%' : '사용자수_%'\n",
    "          ,'nid' : '제공기사수'\n",
    "          ,'nid_%' : '제공기사수_%'\n",
    "          ,'visit/user' : '제공기사당 방문수'\n",
    "          ,'visit/nid' : '사용자수당 방문수'\n",
    "         }\n",
    "gr_all.rename(columns= columns, index=index, inplace= True)"
   ]
  },
  {
   "cell_type": "code",
   "execution_count": null,
   "metadata": {
    "scrolled": true
   },
   "outputs": [],
   "source": [
    "gr_all.rename(columns= columns, index=index, inplace= True)"
   ]
  },
  {
   "cell_type": "code",
   "execution_count": null,
   "metadata": {},
   "outputs": [],
   "source": [
    "gr_all"
   ]
  },
  {
   "cell_type": "code",
   "execution_count": null,
   "metadata": {},
   "outputs": [],
   "source": [
    "gr_all.to_csv(\"rock_pivot_220220_개편.csv\", encoding='utf-8-sig')"
   ]
  },
  {
   "cell_type": "markdown",
   "metadata": {},
   "source": [
    "## 5. 퍼블리셔별 데이터 분석 : 캐시워크 drawer"
   ]
  },
  {
   "cell_type": "code",
   "execution_count": null,
   "metadata": {},
   "outputs": [],
   "source": [
    "drawer01  = df_all[df_all['requestKey']=='X4uGJ61p'] "
   ]
  },
  {
   "cell_type": "code",
   "execution_count": null,
   "metadata": {},
   "outputs": [],
   "source": [
    "###pandas pivot table sum by index\n",
    "## index 1 rssoption마다 nid,user,visit의 합계를 내고 그거에 rssoption마다 비중도 말고싶다!"
   ]
  },
  {
   "cell_type": "code",
   "execution_count": null,
   "metadata": {},
   "outputs": [],
   "source": [
    "drawer01_gr= pd.pivot_table(drawer01, index=['date','rssOption','pcode'], values=['user','visit','nid'], aggfunc=np.sum, margins=True)"
   ]
  },
  {
   "cell_type": "code",
   "execution_count": null,
   "metadata": {},
   "outputs": [],
   "source": [
    "drawer01_gr = drawer01_gr.reset_index('pcode')"
   ]
  },
  {
   "cell_type": "code",
   "execution_count": null,
   "metadata": {
    "scrolled": true
   },
   "outputs": [],
   "source": [
    "drawer01_gr_sum =drawer01_gr.sum(level=['date','rssOption'])\n",
    "drawer01_gr_sum.columns =['nid_sum','user_sum','visit_sum']"
   ]
  },
  {
   "cell_type": "code",
   "execution_count": null,
   "metadata": {},
   "outputs": [],
   "source": [
    "gr_all2 = pd.merge(drawer01_gr, drawer01_gr_sum, on=['date','rssOption'],how='left')"
   ]
  },
  {
   "cell_type": "code",
   "execution_count": null,
   "metadata": {},
   "outputs": [],
   "source": [
    "gr_all2['visit_%'] = gr_all2['visit']/gr_all2['visit_sum']*100\n",
    "gr_all2['user_%'] =  gr_all2['user']/gr_all2['user_sum']*100\n",
    "gr_all2['nid_%']  =  gr_all2['nid']/gr_all2['nid_sum']*100\n",
    "gr_all2['visit/user'] = gr_all2['visit']/gr_all2['user']\n",
    "gr_all2['visit/nid']  = gr_all2['visit']/gr_all2['nid']"
   ]
  },
  {
   "cell_type": "code",
   "execution_count": null,
   "metadata": {},
   "outputs": [],
   "source": [
    "drawer_f=gr_all2[['pcode','visit','visit_%','user','user_%',\n",
    "               'nid','nid_%','visit/user','visit/nid']]"
   ]
  },
  {
   "cell_type": "code",
   "execution_count": null,
   "metadata": {},
   "outputs": [],
   "source": [
    "drawer_f = round(drawer_f,2)"
   ]
  },
  {
   "cell_type": "code",
   "execution_count": null,
   "metadata": {},
   "outputs": [],
   "source": [
    "index={ 'RECOM_RTI' : '1_실시간이슈'\n",
    "       ,'RECOM_K_RTI' : '2_실시간이슈(열독률)'\n",
    "       ,'RECOM_FCC' : '3_언론사&카테고리'\n",
    "       ,'RECOM_CRANK' :'4_카테고리별인기'\n",
    "       ,'RECOM_CTR' : '5_CTR'\n",
    "       ,'RECOM_EMOJI' : '6_댓글감정표현'\n",
    "       ,'RECOM_RANK': '7_인기순'\n",
    "       ,'RECOM_NMEDIA' : '8_뉴미디어'\n",
    "       ,'RECOM_DATE' : '9_일자별'\n",
    "      }\n",
    "columns ={ 'visit' :'방문수'\n",
    "          ,'vist_%' :'방문수_%'\n",
    "          ,'user' : '사용자수'\n",
    "          ,'user_%' : '사용자수_%'\n",
    "          ,'nid' : '제공기사수'\n",
    "          ,'nid_%' : '제공기사수_%'\n",
    "          ,'visit/user' : '제공기사당 방문수'\n",
    "          ,'visit/nid' : '사용자수당 방문수'\n",
    "         }\n",
    "drawer_f.rename(columns= columns, index=index, inplace= True)"
   ]
  },
  {
   "cell_type": "code",
   "execution_count": null,
   "metadata": {},
   "outputs": [],
   "source": [
    "drawer_f.to_csv(\"drawer_pivot_220220_개편.csv\", encoding='utf-8-sig')"
   ]
  },
  {
   "cell_type": "code",
   "execution_count": null,
   "metadata": {
    "scrolled": false
   },
   "outputs": [],
   "source": [
    "drawer_f"
   ]
  },
  {
   "cell_type": "markdown",
   "metadata": {},
   "source": [
    "### 퍼블리셔별 카테고리별 방문수 비중"
   ]
  },
  {
   "cell_type": "code",
   "execution_count": null,
   "metadata": {
    "scrolled": false
   },
   "outputs": [],
   "source": [
    "df_all"
   ]
  },
  {
   "cell_type": "code",
   "execution_count": null,
   "metadata": {
    "scrolled": false
   },
   "outputs": [],
   "source": [
    "df_all_=df_all[df_all['rssOption']!='NONE']\n",
    "pd.pivot_table(df_all_, index=['requestKey','date'], columns='pcode', values=['visit','nid'], aggfunc=np.sum, margins=True)"
   ]
  },
  {
   "cell_type": "code",
   "execution_count": null,
   "metadata": {
    "scrolled": false
   },
   "outputs": [],
   "source": [
    "df_all2=df_all[(df_all['rssOption']!='NONE')&(df_all['pcode']=='CA03')]\n",
    "pd.pivot_table(df_all2, index=['requestKey','date'], columns='codeName',values=['visit','nid'], aggfunc=np.sum, margins=True)"
   ]
  },
  {
   "cell_type": "code",
   "execution_count": null,
   "metadata": {},
   "outputs": [],
   "source": [
    "df_all2=df_all[(df_all['rssOption']!='NONE')&(df_all['pcode']=='CA01')]\n",
    "pd.pivot_table(df_all2, index=['requestKey','date'], columns='codeName',values=['visit','nid'], aggfunc=np.sum, margins=True)"
   ]
  },
  {
   "cell_type": "markdown",
   "metadata": {},
   "source": [
    "## 퍼블리셔별, 로직별 방문자수가 많은 기사리스트 추출"
   ]
  },
  {
   "cell_type": "code",
   "execution_count": null,
   "metadata": {},
   "outputs": [],
   "source": [
    "nid_visit = visit_df.groupby(by=['date','rssOption','requestKey','newCategory','nid'], as_index=False).agg({'pcid': 'count'})"
   ]
  },
  {
   "cell_type": "code",
   "execution_count": null,
   "metadata": {},
   "outputs": [],
   "source": [
    "# 기사 제목,nid 가져오기\n",
    "connect = pymysql.connect(host='ec2-3-35-194-202.ap-northeast-2.compute.amazonaws.com'\n",
    "                        , port = 3306\n",
    "                        , user='newspic_read'\n",
    "                        , password ='shxlvmffjtm1!'\n",
    "                        , db = 'newspic'\n",
    "                        , charset='utf8')\n",
    "# connection으로부터 cursor 생성\n",
    "cur = connect.cursor()\n",
    "# 수집 뉴스 테이블 picNews 가져오기\n",
    "query_news = '''\n",
    "SELECT pn.author, pn.category, tc.category as newcategory, nc.codeName,nc.pcode, TW.*\n",
    "FROM  picNews pn inner join tbContentsInfo tc on pn.nid= tc.nid\n",
    "                 left join newsCate nc        ON tc.category = nc.code   \n",
    "                 left JOIN tbNewsTitleWord TW ON pn.nid = TW.nid   \n",
    "WHERE 1=1 \n",
    "AND   pn.nid >= '2022061500000099999' \n",
    "AND   pn.nid <= '2022091523595999999'  \n",
    "ORDER BY pn.pubDate DESC, pn.nid DESC\n",
    "            '''\n",
    "df_news = pd.read_sql(query_news, connect)\n",
    "df_news = df_news[['nid','title','pcode','codeName','author','word','text_rank_word']]"
   ]
  },
  {
   "cell_type": "code",
   "execution_count": null,
   "metadata": {
    "scrolled": true
   },
   "outputs": [],
   "source": [
    "nid_visit.sort_values(by='pcid', ascending=False).head()\n",
    "nid_visit.info()"
   ]
  },
  {
   "cell_type": "code",
   "execution_count": null,
   "metadata": {},
   "outputs": [],
   "source": [
    "nid_visit.sort_values(by='pcid', ascending=False).head()"
   ]
  },
  {
   "cell_type": "code",
   "execution_count": null,
   "metadata": {},
   "outputs": [],
   "source": [
    "df_news.info()"
   ]
  },
  {
   "cell_type": "code",
   "execution_count": null,
   "metadata": {},
   "outputs": [],
   "source": [
    "nid_visit.info()"
   ]
  },
  {
   "cell_type": "code",
   "execution_count": null,
   "metadata": {},
   "outputs": [],
   "source": [
    "df_news2 = pd.merge(nid_visit, df_news, on='nid')\n",
    "df_news2.head(50)"
   ]
  },
  {
   "cell_type": "code",
   "execution_count": null,
   "metadata": {},
   "outputs": [],
   "source": [
    "# 캐시워크 잠금화면에서 로직 인기순으로 뉴스에 나간 기사 방문수 기준으로 top5\n",
    "nid_news =df_news2[['date','rssOption','requestKey','pcode','codeName','author','title','nid','pcid']]\n",
    "nid_news.columns =['date','rssOption','requestKey','pcode','codeName','author','title','nid','visit']"
   ]
  },
  {
   "cell_type": "code",
   "execution_count": null,
   "metadata": {
    "scrolled": true
   },
   "outputs": [],
   "source": [
    "nid_news.sort_values(by='visit',ascending = False).head()"
   ]
  },
  {
   "cell_type": "code",
   "execution_count": null,
   "metadata": {},
   "outputs": [],
   "source": [
    "nid_news.to_csv(\"개편카테고리별인기기사리스트_220217.csv\", encoding='utf-8-sig')"
   ]
  },
  {
   "cell_type": "markdown",
   "metadata": {},
   "source": [
    "## 퍼블리셔별 추천타입별 카테고리별 기사 리스트화 "
   ]
  },
  {
   "cell_type": "code",
   "execution_count": null,
   "metadata": {
    "scrolled": true
   },
   "outputs": [],
   "source": [
    "GROUPCA01 = (nid_news['date']=='2022-08-22')&(nid_news['requestKey']=='G9BUz12T') & (nid_news['rssOption']=='RECOM_K_RTI')&(nid_news['pcode']=='CA03')\n",
    "nid_news[GROUPCA01].sort_values(by='visit',ascending = False).head()"
   ]
  },
  {
   "cell_type": "code",
   "execution_count": null,
   "metadata": {
    "scrolled": true
   },
   "outputs": [],
   "source": [
    "GROUPCA01 = (nid_news['date']=='2022-08-22')&(nid_news['requestKey']=='X4uGJ61p') & (nid_news['rssOption']=='RECOM_CRANK')&(nid_news['pcode']=='CA04')\n",
    "nid_news[GROUPCA01].sort_values(by='visit',ascending = False).head()"
   ]
  },
  {
   "cell_type": "markdown",
   "metadata": {},
   "source": [
    "## 기사별 방문수 TOP5 기사리스트"
   ]
  },
  {
   "cell_type": "code",
   "execution_count": null,
   "metadata": {},
   "outputs": [],
   "source": [
    "# 퍼블리셔, 기사별 방문수를 집계\n",
    "nid_visit2 = visit_df.groupby(by=['date','requestKey','newCategory','nid'], as_index=False).agg({'pcid': 'count'})"
   ]
  },
  {
   "cell_type": "code",
   "execution_count": null,
   "metadata": {
    "scrolled": false
   },
   "outputs": [],
   "source": [
    "# 기사별 방문수 테이블과 기사 테이블을 매칭화 : 기사 제목 확인\n",
    "nid_news2 = pd.merge(nid_visit2, df_news, on='nid')\n",
    "nid_news2.head()"
   ]
  },
  {
   "cell_type": "code",
   "execution_count": null,
   "metadata": {},
   "outputs": [],
   "source": [
    "# 방문수 기준으로 정렬\n",
    "nid_news2.sort_values(by='pcid', ascending=False)\n",
    "nid_t =nid_news2[['date','requestKey','pcode','codeName', 'author','title','nid','pcid']]\n",
    "nid_t.columns =['date','requestKey','pcode','codeName','author','title','nid','visit']"
   ]
  },
  {
   "cell_type": "code",
   "execution_count": null,
   "metadata": {
    "scrolled": false
   },
   "outputs": [],
   "source": [
    "nid_t.sort_values(by='visit', ascending=False).head()"
   ]
  },
  {
   "cell_type": "code",
   "execution_count": null,
   "metadata": {},
   "outputs": [],
   "source": []
  },
  {
   "cell_type": "code",
   "execution_count": null,
   "metadata": {
    "scrolled": false
   },
   "outputs": [],
   "source": [
    "# 일자별 특정 퍼블리셔 중분류 카테고리별 기사 top5확인 \n",
    "nid_t[(nid_t['date']=='2022-08-22')&(nid_t['requestKey']=='G9BUz12T')&(nid_t['codeName']=='사건사고')].sort_values(by='visit',ascending = False).head()"
   ]
  },
  {
   "cell_type": "code",
   "execution_count": null,
   "metadata": {
    "scrolled": false
   },
   "outputs": [],
   "source": [
    "# 일자별 특정 퍼블리셔 중분류 카테고리별 기사 top5확인\n",
    "nid_t[(nid_t['date']=='2022-02-17')&(nid_t['requestKey']=='X4uGJ61p')&(nid_t['codeName']=='시건사고')].sort_values(by='visit',ascending = False).head()"
   ]
  },
  {
   "cell_type": "code",
   "execution_count": null,
   "metadata": {
    "scrolled": true
   },
   "outputs": [],
   "source": [
    "# 일자별 특정 퍼블리셔 중분류 카테고리별 기사 top5확인\n",
    "nid_t[(nid_t['date']=='2022-06-14')&(nid_t['requestKey']=='G9BUz12T')&(nid_t['pcode']=='CA01')].sort_values(by='visit',ascending = False).head()"
   ]
  },
  {
   "cell_type": "code",
   "execution_count": null,
   "metadata": {
    "scrolled": true
   },
   "outputs": [],
   "source": [
    "nid_t[(nid_t['date']=='2022-06-07')&(nid_t['requestKey']=='X4uGJ61p')&(nid_t['pcode']=='CA04')].sort_values(by='visit',ascending = False).head()"
   ]
  },
  {
   "cell_type": "code",
   "execution_count": null,
   "metadata": {},
   "outputs": [],
   "source": [
    "nid_news2"
   ]
  },
  {
   "cell_type": "markdown",
   "metadata": {},
   "source": [
    "## 키워드 분석"
   ]
  },
  {
   "cell_type": "code",
   "execution_count": null,
   "metadata": {},
   "outputs": [],
   "source": [
    "top500= nid_news2[(nid_news2['date']=='2022-09-01')&(nid_news2['requestKey']=='G9BUz12T')].sort_values(by='pcid',ascending = False).head(500)"
   ]
  },
  {
   "cell_type": "code",
   "execution_count": null,
   "metadata": {},
   "outputs": [],
   "source": [
    "top500 = top500[['title','nid','word','text_rank_word','author','pcode','codeName','pcid']]\n",
    "top500.columns = ['title','nid','word','text_rank_word','author','pcode','codeName','visit']"
   ]
  },
  {
   "cell_type": "code",
   "execution_count": null,
   "metadata": {
    "scrolled": true
   },
   "outputs": [],
   "source": [
    "wordlist = top500['word'].str.split(\" \",expand=True)\n",
    "wordlist2 = wordlist.stack().reset_index(level=1, drop=True).to_frame('keyword')"
   ]
  },
  {
   "cell_type": "code",
   "execution_count": null,
   "metadata": {},
   "outputs": [],
   "source": [
    "df_top500 = top500.merge(wordlist2, left_index=True, right_index=True, how='left')"
   ]
  },
  {
   "cell_type": "code",
   "execution_count": null,
   "metadata": {},
   "outputs": [],
   "source": [
    "df_top500= df_top500[['title','nid','author','codeName','visit','keyword']]"
   ]
  },
  {
   "cell_type": "code",
   "execution_count": null,
   "metadata": {
    "scrolled": false
   },
   "outputs": [],
   "source": [
    "pivot500 = pd.pivot_table(df_top500 , index='keyword',values='visit',aggfunc=np.sum).sort_values(by='visit', ascending=False)\n",
    "dict500 = pivot500.to_dict().get('visit')\n",
    "pivot500= pivot500.reset_index()\n",
    "pivot500.head(20)"
   ]
  },
  {
   "cell_type": "code",
   "execution_count": null,
   "metadata": {
    "scrolled": true
   },
   "outputs": [],
   "source": [
    "news_df = pd.DataFrame()\n",
    "for i in range(20):\n",
    "    list = pivot500['keyword'].head(20)\n",
    "    list3 = df_top500[df_top500['keyword'].isin([list[i]])].sort_values(['keyword','visit'], ascending=False).drop_duplicates('nid').head(3)\n",
    "    news_df = news_df.append(list3)    \n",
    "news_df"
   ]
  },
  {
   "cell_type": "code",
   "execution_count": null,
   "metadata": {},
   "outputs": [],
   "source": [
    "from wordcloud import WordCloud\n",
    "from PIL import Image \n",
    "import matplotlib.pylab as plt #matplotlib파이썬에서 그래프를 그릴수 있는 라이브러리\n",
    "\n",
    "cloud_image = \"C:/Users/b/python/ttf/star.png\"\n",
    "icon = Image.open(cloud_image).convert(\"RGBA\")\n",
    "mask = Image.new(\"RGB\", icon.size, (255,255,255))\n",
    "mask.paste(icon,icon)\n",
    "mask = np.array(mask)\n",
    "\n",
    "wordcloud = WordCloud(\n",
    "            font_path =\"C:/Users/b/python/ttf/BMDOHYEON.ttf\" \n",
    "            ,width = 500,height =500\n",
    "            ,background_color ='white'\n",
    "            ,colormap = 'magma' #ocean,magma\n",
    "            ,random_state = 10\n",
    "            ,mask = mask\n",
    "            )"
   ]
  },
  {
   "cell_type": "code",
   "execution_count": null,
   "metadata": {},
   "outputs": [],
   "source": [
    "del(dict500['결혼'])\n",
    "del(dict500['일원'])\n",
    "del(dict500['이혼'])\n",
    "del(dict500['이별'])\n",
    "del(dict500['이유'])\n",
    "del(dict500['공표'])\n",
    "del(dict500['사진'])\n",
    "del(dict500['연하'])\n",
    "del(dict500['근황'])\n",
    "del(dict500['여자친구'])\n",
    "del(dict500['품절남'])\n",
    "del(dict500['유부남'])\n",
    "del(dict500['일반'])"
   ]
  },
  {
   "cell_type": "code",
   "execution_count": null,
   "metadata": {
    "scrolled": true
   },
   "outputs": [],
   "source": [
    "keyword =wordcloud.generate_from_frequencies(dict500)\n",
    "array = keyword.to_array()\n",
    "\n",
    "plt.figure(figsize=(7,7)) # figure 사이즈 변경\n",
    "plt.imshow(array, interpolation=\"bilinear\") # imshow :이미지출력\n",
    "plt.axis(\"off\") # 축표시 생략\n",
    "plt.show() #부가정보 출력 생략"
   ]
  },
  {
   "cell_type": "code",
   "execution_count": null,
   "metadata": {},
   "outputs": [],
   "source": []
  },
  {
   "cell_type": "code",
   "execution_count": null,
   "metadata": {},
   "outputs": [],
   "source": []
  },
  {
   "cell_type": "markdown",
   "metadata": {},
   "source": [
    "\n",
    "\n",
    "\n",
    "\n",
    "\n",
    "\n",
    "\n",
    "\n",
    "\n",
    "\n",
    "\n",
    "\n",
    "\n",
    "\n",
    "\n",
    "\n",
    "\n",
    "\n",
    "\n",
    "\n",
    "\n",
    "\n",
    "\n",
    "\n",
    "\n",
    "\n",
    "\n",
    "\n",
    "\n",
    "\n",
    "\n",
    "\n",
    "\n",
    "\n",
    "\n",
    "\n",
    "\n",
    "\n",
    "\n",
    "\n",
    "\n",
    "\n",
    "\n",
    "\n",
    "## "
   ]
  }
 ],
 "metadata": {
  "kernelspec": {
   "display_name": "Python 3",
   "language": "python",
   "name": "python3"
  },
  "language_info": {
   "codemirror_mode": {
    "name": "ipython",
    "version": 3
   },
   "file_extension": ".py",
   "mimetype": "text/x-python",
   "name": "python",
   "nbconvert_exporter": "python",
   "pygments_lexer": "ipython3",
   "version": "3.8.5"
  }
 },
 "nbformat": 4,
 "nbformat_minor": 4
}
